{
  "nbformat": 4,
  "nbformat_minor": 0,
  "metadata": {
    "colab": {
      "provenance": [],
      "authorship_tag": "ABX9TyNA0PqR7C3QhD/jeO8LftW7",
      "include_colab_link": true
    },
    "kernelspec": {
      "name": "python3",
      "display_name": "Python 3"
    },
    "language_info": {
      "name": "python"
    }
  },
  "cells": [
    {
      "cell_type": "markdown",
      "metadata": {
        "id": "view-in-github",
        "colab_type": "text"
      },
      "source": [
        "<a href=\"https://colab.research.google.com/github/annasyifa/PBO-2/blob/main/Class_5.ipynb\" target=\"_parent\"><img src=\"https://colab.research.google.com/assets/colab-badge.svg\" alt=\"Open In Colab\"/></a>"
      ]
    },
    {
      "cell_type": "code",
      "execution_count": 9,
      "metadata": {
        "colab": {
          "base_uri": "https://localhost:8080/"
        },
        "id": "yCWpev3qa66j",
        "outputId": "4175c287-d073-4af2-e42e-83d6e98e7038"
      },
      "outputs": [
        {
          "output_type": "stream",
          "name": "stdout",
          "text": [
            "Buku berjudul 'Laskar Pelangi' ditulis oleh Andrea Hirata\n"
          ]
        }
      ],
      "source": [
        "# Class Buku\n",
        "class Buku:\n",
        "    def __init__(self, judul, penulis):\n",
        "        self.judul = judul\n",
        "        self.penulis = penulis\n",
        "\n",
        "    def deskripsi(self):\n",
        "        return f\"Buku berjudul '{self.judul}' ditulis oleh {self.penulis}\"\n",
        "\n",
        "# Membuat objek dari class Buku\n",
        "buku1 = Buku(\"Laskar Pelangi\", \"Andrea Hirata\")\n",
        "print(buku1.deskripsi())\n"
      ]
    }
  ]
}