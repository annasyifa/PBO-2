{
  "nbformat": 4,
  "nbformat_minor": 0,
  "metadata": {
    "colab": {
      "provenance": [],
      "authorship_tag": "ABX9TyNSufxAg1ijwKueCbfdnHh0",
      "include_colab_link": true
    },
    "kernelspec": {
      "name": "python3",
      "display_name": "Python 3"
    },
    "language_info": {
      "name": "python"
    }
  },
  "cells": [
    {
      "cell_type": "markdown",
      "metadata": {
        "id": "view-in-github",
        "colab_type": "text"
      },
      "source": [
        "<a href=\"https://colab.research.google.com/github/annasyifa/PBO-2/blob/main/Class_4.ipynb\" target=\"_parent\"><img src=\"https://colab.research.google.com/assets/colab-badge.svg\" alt=\"Open In Colab\"/></a>"
      ]
    },
    {
      "cell_type": "code",
      "execution_count": 1,
      "metadata": {
        "colab": {
          "base_uri": "https://localhost:8080/"
        },
        "id": "msdoeJUS0Wtc",
        "outputId": "8b4292aa-0b89-4bec-ed19-b6590e55a82f"
      },
      "outputs": [
        {
          "output_type": "stream",
          "name": "stdout",
          "text": [
            "Kucing bersuara Meong\n"
          ]
        }
      ],
      "source": [
        "# Class Hewan\n",
        "class Hewan:\n",
        "    def __init__(self, jenis, suara):\n",
        "        self.jenis = jenis\n",
        "        self.suara = suara\n",
        "\n",
        "    def bersuara(self):\n",
        "        return f\"{self.jenis} bersuara {self.suara}\"\n",
        "\n",
        "# Membuat objek dari class Hewan\n",
        "hewan1 = Hewan(\"Kucing\", \"Meong\")\n",
        "print(hewan1.bersuara())"
      ]
    }
  ]
}