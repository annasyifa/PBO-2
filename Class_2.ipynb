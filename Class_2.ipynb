{
  "nbformat": 4,
  "nbformat_minor": 0,
  "metadata": {
    "colab": {
      "provenance": [],
      "authorship_tag": "ABX9TyOrl5Vy2F1rIn5OxuYsjzXP",
      "include_colab_link": true
    },
    "kernelspec": {
      "name": "python3",
      "display_name": "Python 3"
    },
    "language_info": {
      "name": "python"
    }
  },
  "cells": [
    {
      "cell_type": "markdown",
      "metadata": {
        "id": "view-in-github",
        "colab_type": "text"
      },
      "source": [
        "<a href=\"https://colab.research.google.com/github/annasyifa/PBO-2/blob/main/Class_2.ipynb\" target=\"_parent\"><img src=\"https://colab.research.google.com/assets/colab-badge.svg\" alt=\"Open In Colab\"/></a>"
      ]
    },
    {
      "cell_type": "code",
      "execution_count": 3,
      "metadata": {
        "colab": {
          "base_uri": "https://localhost:8080/"
        },
        "id": "yCWpev3qa66j",
        "outputId": "383a152f-82c1-41a6-a26b-65491b2d3bf4"
      },
      "outputs": [
        {
          "output_type": "stream",
          "name": "stdout",
          "text": [
            "Halo, nama saya Annas, dengan NIM 230705200\n"
          ]
        }
      ],
      "source": [
        "# Class Mahasiswa\n",
        "class Mahasiswa:\n",
        "    def __init__(self, nama, nim):\n",
        "        self.nama = nama\n",
        "        self.nim = nim\n",
        "\n",
        "    def perkenalan(self):\n",
        "        return f\"Halo, nama saya {self.nama}, dengan NIM {self.nim}\"\n",
        "\n",
        "# Membuat objek dari class Mahasiswa\n",
        "mhs1 = Mahasiswa(\"Annas\", \"230705200\")\n",
        "print(mhs1.perkenalan())\n"
      ]
    }
  ]
}